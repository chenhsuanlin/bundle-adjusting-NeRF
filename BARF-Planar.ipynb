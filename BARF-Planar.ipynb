{
 "cells": [
  {
   "cell_type": "code",
   "execution_count": 1,
   "id": "a724eb1b-e73c-497f-9bfe-f20bc9c59061",
   "metadata": {},
   "outputs": [],
   "source": [
    "import numpy as np\n",
    "import os,sys,time\n",
    "import torch\n",
    "import importlib\n",
    "\n",
    "from util import log, move_to_device\n",
    "from options import set as set_option\n",
    "\n",
    "import yaml\n",
    "from easydict import EasyDict as edict\n",
    "from matplotlib import pyplot as plt\n",
    "\n",
    "import numpy as np\n",
    "import imageio"
   ]
  },
  {
   "cell_type": "code",
   "execution_count": 9,
   "id": "cc7fc4ce-ea80-4d9a-9f04-c32da31656c2",
   "metadata": {},
   "outputs": [
    {
     "name": "stdout",
     "output_type": "stream",
     "text": [
      "\u001b[1m\u001b[35msetting configurations...\u001b[0m\n",
      "loading options/base.yaml...\n",
      "loading options/planar.yaml...\n",
      "\u001b[36m* \u001b[0m\u001b[32mH\u001b[0m: \u001b[33m360\u001b[0m\n",
      "\u001b[36m* \u001b[0m\u001b[32mW\u001b[0m: \u001b[33m480\u001b[0m\n",
      "\u001b[36m* \u001b[0m\u001b[32march\u001b[0m:\n",
      "   \u001b[36m* \u001b[0m\u001b[32mlayers\u001b[0m: \u001b[33m[None, 256, 256, 256, 256, 3]\u001b[0m\n",
      "   \u001b[36m* \u001b[0m\u001b[32mposenc\u001b[0m:\n",
      "      \u001b[36m* \u001b[0m\u001b[32mL_2D\u001b[0m: \u001b[33m8\u001b[0m\n",
      "   \u001b[36m* \u001b[0m\u001b[32mskip\u001b[0m: \u001b[33m[]\u001b[0m\n",
      "\u001b[36m* \u001b[0m\u001b[32mbarf_c2f\u001b[0m: \u001b[33mNone\u001b[0m\n",
      "\u001b[36m* \u001b[0m\u001b[32mbatch_size\u001b[0m: \u001b[33m5\u001b[0m\n",
      "\u001b[36m* \u001b[0m\u001b[32mcpu\u001b[0m: \u001b[33mFalse\u001b[0m\n",
      "\u001b[36m* \u001b[0m\u001b[32mdata\u001b[0m:\n",
      "   \u001b[36m* \u001b[0m\u001b[32maugment\u001b[0m:\n",
      "   \u001b[36m* \u001b[0m\u001b[32mcenter_crop\u001b[0m: \u001b[33mNone\u001b[0m\n",
      "   \u001b[36m* \u001b[0m\u001b[32mdataset\u001b[0m: \u001b[33mNone\u001b[0m\n",
      "   \u001b[36m* \u001b[0m\u001b[32mimage_fname\u001b[0m: \u001b[33mdata/cat.jpg\u001b[0m\n",
      "   \u001b[36m* \u001b[0m\u001b[32mimage_size\u001b[0m: \u001b[33m[360, 480]\u001b[0m\n",
      "   \u001b[36m* \u001b[0m\u001b[32mnum_workers\u001b[0m: \u001b[33m8\u001b[0m\n",
      "   \u001b[36m* \u001b[0m\u001b[32mpatch_crop\u001b[0m: \u001b[33m[180, 180]\u001b[0m\n",
      "   \u001b[36m* \u001b[0m\u001b[32mpreload\u001b[0m: \u001b[33mFalse\u001b[0m\n",
      "   \u001b[36m* \u001b[0m\u001b[32mroot\u001b[0m: \u001b[33mNone\u001b[0m\n",
      "   \u001b[36m* \u001b[0m\u001b[32mtrain_sub\u001b[0m: \u001b[33mNone\u001b[0m\n",
      "   \u001b[36m* \u001b[0m\u001b[32mval_on_test\u001b[0m: \u001b[33mFalse\u001b[0m\n",
      "   \u001b[36m* \u001b[0m\u001b[32mval_sub\u001b[0m: \u001b[33mNone\u001b[0m\n",
      "\u001b[36m* \u001b[0m\u001b[32mdevice\u001b[0m: \u001b[33mcuda:0\u001b[0m\n",
      "\u001b[36m* \u001b[0m\u001b[32mfreq\u001b[0m:\n",
      "   \u001b[36m* \u001b[0m\u001b[32mckpt\u001b[0m: \u001b[33m50\u001b[0m\n",
      "   \u001b[36m* \u001b[0m\u001b[32mscalar\u001b[0m: \u001b[33m20\u001b[0m\n",
      "   \u001b[36m* \u001b[0m\u001b[32mval\u001b[0m: \u001b[33m20\u001b[0m\n",
      "   \u001b[36m* \u001b[0m\u001b[32mvis\u001b[0m: \u001b[33m100\u001b[0m\n",
      "\u001b[36m* \u001b[0m\u001b[32mgpu\u001b[0m: \u001b[33m0\u001b[0m\n",
      "\u001b[36m* \u001b[0m\u001b[32mgroup\u001b[0m: \u001b[33mplanar\u001b[0m\n",
      "\u001b[36m* \u001b[0m\u001b[32mload\u001b[0m: \u001b[33mNone\u001b[0m\n",
      "\u001b[36m* \u001b[0m\u001b[32mloss_weight\u001b[0m:\n",
      "   \u001b[36m* \u001b[0m\u001b[32mrender\u001b[0m: \u001b[33m0\u001b[0m\n",
      "\u001b[36m* \u001b[0m\u001b[32mmax_epoch\u001b[0m: \u001b[33m1000\u001b[0m\n",
      "\u001b[36m* \u001b[0m\u001b[32mmax_iter\u001b[0m: \u001b[33m5000\u001b[0m\n",
      "\u001b[36m* \u001b[0m\u001b[32mmodel\u001b[0m: \u001b[33mplanar\u001b[0m\n",
      "\u001b[36m* \u001b[0m\u001b[32mname\u001b[0m: \u001b[33mtest_seed3\u001b[0m\n",
      "\u001b[36m* \u001b[0m\u001b[32moptim\u001b[0m:\n",
      "   \u001b[36m* \u001b[0m\u001b[32malgo\u001b[0m: \u001b[33mAdam\u001b[0m\n",
      "   \u001b[36m* \u001b[0m\u001b[32mlr\u001b[0m: \u001b[33m0.001\u001b[0m\n",
      "   \u001b[36m* \u001b[0m\u001b[32mlr_end\u001b[0m: \u001b[33mNone\u001b[0m\n",
      "   \u001b[36m* \u001b[0m\u001b[32mlr_warp\u001b[0m: \u001b[33m0.001\u001b[0m\n",
      "   \u001b[36m* \u001b[0m\u001b[32msched\u001b[0m:\n",
      "\u001b[36m* \u001b[0m\u001b[32moutput_path\u001b[0m: \u001b[33moutput/planar/test_seed3\u001b[0m\n",
      "\u001b[36m* \u001b[0m\u001b[32moutput_root\u001b[0m: \u001b[33moutput\u001b[0m\n",
      "\u001b[36m* \u001b[0m\u001b[32mresume\u001b[0m: \u001b[33mTrue\u001b[0m\n",
      "\u001b[36m* \u001b[0m\u001b[32mseed\u001b[0m: \u001b[33m0\u001b[0m\n",
      "\u001b[36m* \u001b[0m\u001b[32mtb\u001b[0m:\n",
      "   \u001b[36m* \u001b[0m\u001b[32mnum_images\u001b[0m: \u001b[33m[4, 8]\u001b[0m\n",
      "\u001b[36m* \u001b[0m\u001b[32mvisdom\u001b[0m: \u001b[33mNone\u001b[0m\n",
      "\u001b[36m* \u001b[0m\u001b[32mwarp\u001b[0m:\n",
      "   \u001b[36m* \u001b[0m\u001b[32mdof\u001b[0m: \u001b[33m8\u001b[0m\n",
      "   \u001b[36m* \u001b[0m\u001b[32mfix_first\u001b[0m: \u001b[33mTrue\u001b[0m\n",
      "   \u001b[36m* \u001b[0m\u001b[32mnoise_h\u001b[0m: \u001b[33m0.1\u001b[0m\n",
      "   \u001b[36m* \u001b[0m\u001b[32mnoise_t\u001b[0m: \u001b[33m0.2\u001b[0m\n",
      "   \u001b[36m* \u001b[0m\u001b[32mtype\u001b[0m: \u001b[33mhomography\u001b[0m\n",
      "\u001b[36m* \u001b[0m\u001b[32myaml\u001b[0m: \u001b[33mplanar\u001b[0m\n"
     ]
    }
   ],
   "source": [
    "args = {}\n",
    "args['model'] = 'planar'\n",
    "args['yaml'] = 'planar'\n",
    "args['gpu'] = 0\n",
    "args['group'] = 'planar'\n",
    "args['name'] = 'test_seed3'\n",
    "# args['group'] = 'freiburg_cars'\n",
    "# args['name'] = 'car001_barf_pe_lr_test'\n",
    "args['resume'] = True\n",
    "#args['load'] = '5000.ckpt'\n",
    "args = edict(args)\n",
    "opt = set_option(args)"
   ]
  },
  {
   "cell_type": "code",
   "execution_count": 5,
   "id": "a8930500-b8a5-4a3d-a919-9137504af889",
   "metadata": {},
   "outputs": [],
   "source": [
    "model = importlib.import_module(\"model.{}\".format(opt.model))\n",
    "m = model.Model(opt)"
   ]
  },
  {
   "cell_type": "code",
   "execution_count": 6,
   "id": "3c2b1673-4813-4ad4-a6cc-6f8f249e78a3",
   "metadata": {},
   "outputs": [
    {
     "name": "stdout",
     "output_type": "stream",
     "text": [
      "\u001b[1m\u001b[35mbuilding networks...\u001b[0m\n",
      "\u001b[1m\u001b[35msetting up optimizers...\u001b[0m\n"
     ]
    }
   ],
   "source": [
    "m.load_dataset(opt)\n",
    "m.build_networks(opt)\n",
    "m.setup_optimizer(opt)"
   ]
  },
  {
   "cell_type": "code",
   "execution_count": 7,
   "id": "34b8284b-1752-44a1-a74e-66ee79ef38c1",
   "metadata": {},
   "outputs": [
    {
     "data": {
      "text/plain": [
       "Graph(\n",
       "  (neural_image): NeuralImageFunction(\n",
       "    (mlp): ModuleList(\n",
       "      (0): Linear(in_features=34, out_features=256, bias=True)\n",
       "      (1): Linear(in_features=256, out_features=256, bias=True)\n",
       "      (2): Linear(in_features=256, out_features=256, bias=True)\n",
       "      (3): Linear(in_features=256, out_features=256, bias=True)\n",
       "      (4): Linear(in_features=256, out_features=3, bias=True)\n",
       "    )\n",
       "  )\n",
       "  (warp_param): Embedding(5, 8)\n",
       ")"
      ]
     },
     "execution_count": 7,
     "metadata": {},
     "output_type": "execute_result"
    }
   ],
   "source": [
    "m.graph"
   ]
  },
  {
   "cell_type": "code",
   "execution_count": 10,
   "id": "a6f369bc-23ae-4116-b2b3-80630f3a7e56",
   "metadata": {},
   "outputs": [
    {
     "name": "stdout",
     "output_type": "stream",
     "text": [
      "\u001b[1m\u001b[35mresuming from previous checkpoint...\u001b[0m\n",
      "restoring neural_image...\n",
      "restoring warp_param...\n",
      "restoring optim...\n",
      "resuming from epoch None (iteration 5000)\n"
     ]
    }
   ],
   "source": [
    "m.restore_checkpoint(opt)"
   ]
  },
  {
   "cell_type": "code",
   "execution_count": 11,
   "id": "da8ce3ad-e30b-4964-855c-4a11deb8e181",
   "metadata": {},
   "outputs": [
    {
     "ename": "AttributeError",
     "evalue": "'Model' object has no attribute 'train_data'",
     "output_type": "error",
     "traceback": [
      "\u001b[0;31m---------------------------------------------------------------------------\u001b[0m",
      "\u001b[0;31mAttributeError\u001b[0m                            Traceback (most recent call last)",
      "Input \u001b[0;32mIn [11]\u001b[0m, in \u001b[0;36m<cell line: 1>\u001b[0;34m()\u001b[0m\n\u001b[0;32m----> 1\u001b[0m m\u001b[38;5;241m.\u001b[39mtrain_loader \u001b[38;5;241m=\u001b[39m \u001b[43mm\u001b[49m\u001b[38;5;241;43m.\u001b[39;49m\u001b[43mtrain_data\u001b[49m\u001b[38;5;241m.\u001b[39msetup_loader(opt, shuffle \u001b[38;5;241m=\u001b[39m \u001b[38;5;28;01mFalse\u001b[39;00m)\n",
      "\u001b[0;31mAttributeError\u001b[0m: 'Model' object has no attribute 'train_data'"
     ]
    }
   ],
   "source": [
    "m.train_loader = m.train_data.setup_loader(opt, shuffle = False)"
   ]
  },
  {
   "cell_type": "code",
   "execution_count": null,
   "id": "758262ac-7e47-4db5-8a07-a228aeb02745",
   "metadata": {},
   "outputs": [],
   "source": []
  }
 ],
 "metadata": {
  "kernelspec": {
   "display_name": "Python 3 (ipykernel)",
   "language": "python",
   "name": "python3"
  },
  "language_info": {
   "codemirror_mode": {
    "name": "ipython",
    "version": 3
   },
   "file_extension": ".py",
   "mimetype": "text/x-python",
   "name": "python",
   "nbconvert_exporter": "python",
   "pygments_lexer": "ipython3",
   "version": "3.9.9"
  }
 },
 "nbformat": 4,
 "nbformat_minor": 5
}
